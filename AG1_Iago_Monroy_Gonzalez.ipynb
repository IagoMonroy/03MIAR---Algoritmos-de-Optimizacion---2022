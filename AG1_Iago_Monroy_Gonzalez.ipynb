{
  "cells": [
    {
      "attachments": {},
      "cell_type": "markdown",
      "metadata": {
        "id": "GG2D6vLdYwwy"
      },
      "source": [
        "#### Actividad Guiada 1 de Algoritmos de Optimizacion\n",
        "\n",
        "**Nombre**: Iago Monroy González\n",
        "\n",
        "**github**: https://github.com/IagoMonroy/03MIAR---Algoritmos-de-Optimizacion---2022\n",
        "\n",
        "**colab**: https://drive.google.com/file/d/1dXZsBZniwizAln_Rrn7Bf9zrigBPX7GF/view?usp=sharing"
      ]
    },
    {
      "attachments": {},
      "cell_type": "markdown",
      "metadata": {},
      "source": [
        "## **Divide y vencerás**\n",
        "\n",
        "Problema: Torres de Hanoy"
      ]
    },
    {
      "cell_type": "code",
      "execution_count": 1,
      "metadata": {},
      "outputs": [],
      "source": [
        "from typing import Dict, List, Tuple"
      ]
    },
    {
      "cell_type": "code",
      "execution_count": 2,
      "metadata": {
        "colab": {
          "base_uri": "https://localhost:8080/"
        },
        "id": "rTiqLuX2ZKuL",
        "outputId": "b55fa0f0-8254-4e7c-a4e3-1da9a0b73173"
      },
      "outputs": [],
      "source": [
        "# Torres de Hanoy - Divide y vencerás\n",
        "\n",
        "def torres_hanoy(n_fichas: int, torre_inicial: int, torre_final: int) -> None:\n",
        "    \"\"\"Devuelve los movimientos necesarios para el movimiento indicado como parámetro.\n",
        "\n",
        "    Args:\n",
        "        n_fichas (int): fichas totales.\n",
        "        torre_inicial (int): torre desde donde se va a mover.\n",
        "        torre_final (int): torre a donde se mueve.\n",
        "    \"\"\"\n",
        "    if n_fichas == 1:\n",
        "        print(f\"Lleva la ficha desde {torre_inicial} hasta {torre_final}.\")\n",
        "    else:\n",
        "        pivote = 6 - torre_inicial - torre_final\n",
        "        torres_hanoy(n_fichas-1, torre_inicial, pivote)\n",
        "        print(f\"Lleva la ficha desde {torre_inicial} hasta {torre_final}.\")\n",
        "        torres_hanoy(n_fichas-1, pivote,  torre_final)\n"
      ]
    },
    {
      "cell_type": "code",
      "execution_count": 3,
      "metadata": {},
      "outputs": [
        {
          "name": "stdout",
          "output_type": "stream",
          "text": [
            "Lleva la ficha desde 1 hasta 3.\n",
            "Lleva la ficha desde 1 hasta 2.\n",
            "Lleva la ficha desde 3 hasta 2.\n",
            "Lleva la ficha desde 1 hasta 3.\n",
            "Lleva la ficha desde 2 hasta 1.\n",
            "Lleva la ficha desde 2 hasta 3.\n",
            "Lleva la ficha desde 1 hasta 3.\n"
          ]
        }
      ],
      "source": [
        "torres_hanoy(3, 1, 3)"
      ]
    },
    {
      "cell_type": "code",
      "execution_count": null,
      "metadata": {
        "id": "UTL6wiczQVDA"
      },
      "outputs": [],
      "source": []
    },
    {
      "attachments": {},
      "cell_type": "markdown",
      "metadata": {},
      "source": [
        "## Técnica voraz\n",
        "\n",
        "Problema: cambio de monedas"
      ]
    },
    {
      "cell_type": "code",
      "execution_count": 5,
      "metadata": {
        "colab": {
          "base_uri": "https://localhost:8080/"
        },
        "id": "YwBudj2hYoMR",
        "outputId": "c9eaf544-4ca9-4d30-fe8a-b2543ad83d24"
      },
      "outputs": [],
      "source": [
        "# Cambio de monedas - Técnica voraz\n",
        "\n",
        "def cambio_monedas(cantidad: int, sistema: List[int]) -> List[int]:\n",
        "    \"\"\" Resuelve el problema del cambio de monedas por técnica voraz.\n",
        "\n",
        "    Args:\n",
        "        cantidad (int): dinero a devolver.\n",
        "        sistema (List[int]): tipo de monedas disponibles.\n",
        "\n",
        "    Returns:\n",
        "        List[int]: lista con la cantidad de monedas que hay que utilizar de cada tipo.\n",
        "    \"\"\"\n",
        "    solucion = [0] * len(sistema)\n",
        "    valor_acumulado = 0\n",
        "\n",
        "    for i, valor in enumerate(sistema):\n",
        "        monedas = (cantidad - valor_acumulado) // valor\n",
        "        solucion[i] = monedas\n",
        "        valor_acumulado = valor_acumulado + monedas * valor\n",
        "\n",
        "        if cantidad == valor_acumulado:\n",
        "            return solucion\n",
        "\n",
        "    print(\"No es posible encontrar solucion\")\n"
      ]
    },
    {
      "cell_type": "code",
      "execution_count": 6,
      "metadata": {},
      "outputs": [
        {
          "data": {
            "text/plain": [
              "[1, 0, 1, 1]"
            ]
          },
          "execution_count": 6,
          "metadata": {},
          "output_type": "execute_result"
        }
      ],
      "source": [
        "SISTEMA = [12, 5, 2, 1]\n",
        "cambio_monedas(15, SISTEMA)\n"
      ]
    },
    {
      "cell_type": "code",
      "execution_count": null,
      "metadata": {
        "id": "9toJ4WjhQUNj"
      },
      "outputs": [],
      "source": []
    },
    {
      "cell_type": "code",
      "execution_count": 12,
      "metadata": {},
      "outputs": [],
      "source": [
        "# Cambio de monedas - Técnica voraz\n",
        "\n",
        "def cambio_monedas_2(cantidad: int, sistema: List[int]) -> Dict[int, int]:\n",
        "    \"\"\" Resuelve el problema del cambio de monedas por técnica voraz.\n",
        "\n",
        "    Args:\n",
        "        cantidad (int): dinero a devolver.\n",
        "        sistema (List[int]): tipo de monedas disponibles.\n",
        "\n",
        "    Returns:\n",
        "        Dict[int, int]: diccionario con el tipo de moneda y su cantidad.\n",
        "    \"\"\"\n",
        "\n",
        "    solucion = {}\n",
        "\n",
        "    for i, v in enumerate(sistema):\n",
        "        monedas = cantidad // v\n",
        "        solucion[v] = monedas\n",
        "        cantidad -= monedas * v\n",
        "        if cantidad == 0:\n",
        "            return solucion\n"
      ]
    },
    {
      "cell_type": "code",
      "execution_count": 13,
      "metadata": {},
      "outputs": [
        {
          "data": {
            "text/plain": [
              "{12: 1, 5: 0, 2: 1, 1: 1}"
            ]
          },
          "execution_count": 13,
          "metadata": {},
          "output_type": "execute_result"
        }
      ],
      "source": [
        "SISTEMA = [12, 5, 2, 1]\n",
        "cambio_monedas_2(15, SISTEMA)"
      ]
    },
    {
      "cell_type": "code",
      "execution_count": null,
      "metadata": {},
      "outputs": [],
      "source": []
    },
    {
      "attachments": {},
      "cell_type": "markdown",
      "metadata": {},
      "source": [
        "## **Backtracking (Vuelta atrás)**\n",
        "\n",
        "Problema: Problema de las 4 reinas."
      ]
    },
    {
      "cell_type": "code",
      "execution_count": 14,
      "metadata": {
        "colab": {
          "base_uri": "https://localhost:8080/"
        },
        "id": "H4Iwt2XRZTFr",
        "outputId": "4a9abbe7-b47f-4aad-fc18-7530f677c570"
      },
      "outputs": [],
      "source": [
        "# N Reinas - Backtracking - Vuelta atrás\n",
        "\n",
        "\n",
        "# Verifica que en la solución parcial no hay amenazas entre reinas\n",
        "\n",
        "def es_prometedora(solucion: List[int], etapa: int) -> bool:\n",
        "    ################################################################\n",
        "    # print(solucion)\n",
        "    # Si la solución tiene dos valores iguales no es valida => Dos reinas en la misma fila\n",
        "    for i in range(etapa + 1):\n",
        "        # print(f\"El valor {solucion[i]} está {solucion.count(solucion[i])} veces.\")\n",
        "        if solucion.count(solucion[i]) > 1:\n",
        "            return False\n",
        "\n",
        "        # Verifica las diagonales\n",
        "        for j in range(i + 1, etapa + 1):\n",
        "            # print(f\"Comprobando diagonal de {i} y {j}.\")\n",
        "            if abs(i - j) == abs(solucion[i] - solucion[j]):\n",
        "                return False\n",
        "    return True\n",
        "\n",
        "# Traduce la solución al tablero\n",
        "\n",
        "\n",
        "def escribe_solucion(solucion: List[int]) -> None:\n",
        "    n = len(solucion)\n",
        "    for x in range(n):\n",
        "        print(\"\")\n",
        "        for i in range(n):\n",
        "            if solucion[i] == x+1:\n",
        "                print(\" X \", end=\"\")\n",
        "            else:\n",
        "                print(\" - \", end=\"\")\n",
        "\n",
        "\n",
        "# Proceso principal de N-Reinas\n",
        "\n",
        "def reinas(n_reinas: int, solucion: List[int] = [], etapa: int = 0) -> List[int]:\n",
        "    if len(solucion) == 0:\n",
        "        solucion = [0 for i in range(n_reinas)]\n",
        "\n",
        "    for i in range(1, n_reinas + 1):\n",
        "        solucion[etapa] = i\n",
        "        if es_prometedora(solucion, etapa):\n",
        "            if etapa == n_reinas - 1:\n",
        "                print(solucion)\n",
        "            else:\n",
        "                reinas(n_reinas, solucion, etapa+1)\n",
        "        else:\n",
        "            None\n",
        "\n",
        "    solucion[etapa] = 0\n"
      ]
    },
    {
      "cell_type": "code",
      "execution_count": 15,
      "metadata": {
        "colab": {
          "base_uri": "https://localhost:8080/"
        },
        "id": "eTZclKH9QV0R",
        "outputId": "12fb56f5-881a-4acc-a52d-5ed260f813ed"
      },
      "outputs": [
        {
          "name": "stdout",
          "output_type": "stream",
          "text": [
            "[1, 5, 8, 6, 3, 7, 2, 4]\n",
            "[1, 6, 8, 3, 7, 4, 2, 5]\n",
            "[1, 7, 4, 6, 8, 2, 5, 3]\n",
            "[1, 7, 5, 8, 2, 4, 6, 3]\n",
            "[2, 4, 6, 8, 3, 1, 7, 5]\n",
            "[2, 5, 7, 1, 3, 8, 6, 4]\n",
            "[2, 5, 7, 4, 1, 8, 6, 3]\n",
            "[2, 6, 1, 7, 4, 8, 3, 5]\n",
            "[2, 6, 8, 3, 1, 4, 7, 5]\n",
            "[2, 7, 3, 6, 8, 5, 1, 4]\n",
            "[2, 7, 5, 8, 1, 4, 6, 3]\n",
            "[2, 8, 6, 1, 3, 5, 7, 4]\n",
            "[3, 1, 7, 5, 8, 2, 4, 6]\n",
            "[3, 5, 2, 8, 1, 7, 4, 6]\n",
            "[3, 5, 2, 8, 6, 4, 7, 1]\n",
            "[3, 5, 7, 1, 4, 2, 8, 6]\n",
            "[3, 5, 8, 4, 1, 7, 2, 6]\n",
            "[3, 6, 2, 5, 8, 1, 7, 4]\n",
            "[3, 6, 2, 7, 1, 4, 8, 5]\n",
            "[3, 6, 2, 7, 5, 1, 8, 4]\n",
            "[3, 6, 4, 1, 8, 5, 7, 2]\n",
            "[3, 6, 4, 2, 8, 5, 7, 1]\n",
            "[3, 6, 8, 1, 4, 7, 5, 2]\n",
            "[3, 6, 8, 1, 5, 7, 2, 4]\n",
            "[3, 6, 8, 2, 4, 1, 7, 5]\n",
            "[3, 7, 2, 8, 5, 1, 4, 6]\n",
            "[3, 7, 2, 8, 6, 4, 1, 5]\n",
            "[3, 8, 4, 7, 1, 6, 2, 5]\n",
            "[4, 1, 5, 8, 2, 7, 3, 6]\n",
            "[4, 1, 5, 8, 6, 3, 7, 2]\n",
            "[4, 2, 5, 8, 6, 1, 3, 7]\n",
            "[4, 2, 7, 3, 6, 8, 1, 5]\n",
            "[4, 2, 7, 3, 6, 8, 5, 1]\n",
            "[4, 2, 7, 5, 1, 8, 6, 3]\n",
            "[4, 2, 8, 5, 7, 1, 3, 6]\n",
            "[4, 2, 8, 6, 1, 3, 5, 7]\n",
            "[4, 6, 1, 5, 2, 8, 3, 7]\n",
            "[4, 6, 8, 2, 7, 1, 3, 5]\n",
            "[4, 6, 8, 3, 1, 7, 5, 2]\n",
            "[4, 7, 1, 8, 5, 2, 6, 3]\n",
            "[4, 7, 3, 8, 2, 5, 1, 6]\n",
            "[4, 7, 5, 2, 6, 1, 3, 8]\n",
            "[4, 7, 5, 3, 1, 6, 8, 2]\n",
            "[4, 8, 1, 3, 6, 2, 7, 5]\n",
            "[4, 8, 1, 5, 7, 2, 6, 3]\n",
            "[4, 8, 5, 3, 1, 7, 2, 6]\n",
            "[5, 1, 4, 6, 8, 2, 7, 3]\n",
            "[5, 1, 8, 4, 2, 7, 3, 6]\n",
            "[5, 1, 8, 6, 3, 7, 2, 4]\n",
            "[5, 2, 4, 6, 8, 3, 1, 7]\n",
            "[5, 2, 4, 7, 3, 8, 6, 1]\n",
            "[5, 2, 6, 1, 7, 4, 8, 3]\n",
            "[5, 2, 8, 1, 4, 7, 3, 6]\n",
            "[5, 3, 1, 6, 8, 2, 4, 7]\n",
            "[5, 3, 1, 7, 2, 8, 6, 4]\n",
            "[5, 3, 8, 4, 7, 1, 6, 2]\n",
            "[5, 7, 1, 3, 8, 6, 4, 2]\n",
            "[5, 7, 1, 4, 2, 8, 6, 3]\n",
            "[5, 7, 2, 4, 8, 1, 3, 6]\n",
            "[5, 7, 2, 6, 3, 1, 4, 8]\n",
            "[5, 7, 2, 6, 3, 1, 8, 4]\n",
            "[5, 7, 4, 1, 3, 8, 6, 2]\n",
            "[5, 8, 4, 1, 3, 6, 2, 7]\n",
            "[5, 8, 4, 1, 7, 2, 6, 3]\n",
            "[6, 1, 5, 2, 8, 3, 7, 4]\n",
            "[6, 2, 7, 1, 3, 5, 8, 4]\n",
            "[6, 2, 7, 1, 4, 8, 5, 3]\n",
            "[6, 3, 1, 7, 5, 8, 2, 4]\n",
            "[6, 3, 1, 8, 4, 2, 7, 5]\n",
            "[6, 3, 1, 8, 5, 2, 4, 7]\n",
            "[6, 3, 5, 7, 1, 4, 2, 8]\n",
            "[6, 3, 5, 8, 1, 4, 2, 7]\n",
            "[6, 3, 7, 2, 4, 8, 1, 5]\n",
            "[6, 3, 7, 2, 8, 5, 1, 4]\n",
            "[6, 3, 7, 4, 1, 8, 2, 5]\n",
            "[6, 4, 1, 5, 8, 2, 7, 3]\n",
            "[6, 4, 2, 8, 5, 7, 1, 3]\n",
            "[6, 4, 7, 1, 3, 5, 2, 8]\n",
            "[6, 4, 7, 1, 8, 2, 5, 3]\n",
            "[6, 8, 2, 4, 1, 7, 5, 3]\n",
            "[7, 1, 3, 8, 6, 4, 2, 5]\n",
            "[7, 2, 4, 1, 8, 5, 3, 6]\n",
            "[7, 2, 6, 3, 1, 4, 8, 5]\n",
            "[7, 3, 1, 6, 8, 5, 2, 4]\n",
            "[7, 3, 8, 2, 5, 1, 6, 4]\n",
            "[7, 4, 2, 5, 8, 1, 3, 6]\n",
            "[7, 4, 2, 8, 6, 1, 3, 5]\n",
            "[7, 5, 3, 1, 6, 8, 2, 4]\n",
            "[8, 2, 4, 1, 7, 5, 3, 6]\n",
            "[8, 2, 5, 3, 1, 7, 4, 6]\n",
            "[8, 3, 1, 6, 2, 5, 7, 4]\n",
            "[8, 4, 1, 3, 6, 2, 7, 5]\n",
            "\n",
            " X  -  -  -  -  -  -  - \n",
            " -  -  -  -  -  -  X  - \n",
            " -  -  -  -  X  -  -  - \n",
            " -  -  -  -  -  -  -  X \n",
            " -  X  -  -  -  -  -  - \n",
            " -  -  -  X  -  -  -  - \n",
            " -  -  -  -  -  X  -  - \n",
            " -  -  X  -  -  -  -  - "
          ]
        }
      ],
      "source": [
        "reinas(8, solucion=[], etapa=0)\n",
        "escribe_solucion([1, 5, 8, 6, 3, 7, 2, 4])"
      ]
    },
    {
      "cell_type": "code",
      "execution_count": null,
      "metadata": {},
      "outputs": [],
      "source": []
    },
    {
      "attachments": {},
      "cell_type": "markdown",
      "metadata": {},
      "source": [
        "## **Programación dinámica**\n",
        "\n",
        "Problema: viaje por el río"
      ]
    },
    {
      "cell_type": "code",
      "execution_count": 16,
      "metadata": {
        "colab": {
          "base_uri": "https://localhost:8080/",
          "height": 381
        },
        "id": "TocxR55dQWq5",
        "outputId": "90cdf27e-b470-474a-88f3-b62f53d57215"
      },
      "outputs": [],
      "source": [
        "# Viaje por el rio - Programación dinámica\n",
        "# Calculo de la matriz de PRECIOS y RUTAS\n",
        "\n",
        "def precios(tarifas: List[List[int]]):\n",
        "    ################################################################\n",
        "    # Total de Nodos\n",
        "    n = len(tarifas[0])\n",
        "\n",
        "    # Inicialización de la tabla de precios\n",
        "    PRECIOS = [[9999] * n for i in [9999] * n]\n",
        "    RUTA = [[\"\"] * n for i in [\"\"] * n]\n",
        "\n",
        "    for i in range(0, n - 1):\n",
        "        RUTA[i][i] = i  # Para ir de i a i se \"pasa por i\"\n",
        "        PRECIOS[i][i] = 0  # Para ir de i a i se se paga 0\n",
        "        for j in range(i + 1, n):\n",
        "            MIN = tarifas[i][j]\n",
        "            RUTA[i][j] = i\n",
        "\n",
        "            for k in range(i, j):\n",
        "                if PRECIOS[i][k] + tarifas[k][j] < MIN:\n",
        "                    MIN = min(MIN, PRECIOS[i][k] + tarifas[k][j])\n",
        "                    # Anota que para ir de i a j hay que pasar por k\n",
        "                    RUTA[i][j] = k\n",
        "                PRECIOS[i][j] = MIN\n",
        "\n",
        "    return PRECIOS, RUTA\n",
        "\n",
        "\n",
        "# Determinar la ruta con Recursividad\n",
        "def calcular_ruta(RUTA, desde, hasta):\n",
        "    if desde == hasta:\n",
        "        #print(\"Ir a :\" + str(desde))\n",
        "        return \"\"\n",
        "    else:\n",
        "        return f\"{calcular_ruta(RUTA, desde, RUTA[desde][hasta])},{RUTA[desde][hasta]}\"\n"
      ]
    },
    {
      "cell_type": "code",
      "execution_count": 17,
      "metadata": {},
      "outputs": [
        {
          "name": "stdout",
          "output_type": "stream",
          "text": [
            "PRECIOS\n",
            "[0, 5, 4, 3, 8, 8, 11]\n",
            "[9999, 0, 999, 2, 3, 8, 7]\n",
            "[9999, 9999, 0, 1, 6, 4, 7]\n",
            "[9999, 9999, 9999, 0, 5, 6, 9]\n",
            "[9999, 9999, 9999, 9999, 0, 999, 4]\n",
            "[9999, 9999, 9999, 9999, 9999, 0, 3]\n",
            "[9999, 9999, 9999, 9999, 9999, 9999, 9999]\n",
            "\n",
            "RUTA\n",
            "[0, 0, 0, 0, 1, 2, 5]\n",
            "['', 1, 1, 1, 1, 3, 4]\n",
            "['', '', 2, 2, 3, 2, 5]\n",
            "['', '', '', 3, 3, 3, 3]\n",
            "['', '', '', '', 4, 4, 4]\n",
            "['', '', '', '', '', 5, 5]\n",
            "['', '', '', '', '', '', '']\n",
            "\n",
            "La ruta es:\n"
          ]
        },
        {
          "data": {
            "text/plain": [
              "',0,2,5'"
            ]
          },
          "execution_count": 17,
          "metadata": {},
          "output_type": "execute_result"
        }
      ],
      "source": [
        "TARIFAS = [\n",
        "    [0, 5, 4, 3, 999, 999, 999],\n",
        "    [999, 0, 999, 2, 3, 999, 11],\n",
        "    [999, 999, 0, 1, 999, 4, 10],\n",
        "    [999, 999, 999, 0, 5, 6, 9],\n",
        "    [999, 999, 999, 999, 0, 999, 4],\n",
        "    [999, 999, 999, 999, 999, 0, 3],\n",
        "    [999, 999, 999, 999, 999, 999, 0]]\n",
        "# 999 se puede sustituir por float(\"inf\")\n",
        "\n",
        "PRECIOS, RUTA = precios(TARIFAS)\n",
        "# print(PRECIOS[0][6])\n",
        "\n",
        "print(\"PRECIOS\")\n",
        "for i in range(len(TARIFAS)):\n",
        "    print(PRECIOS[i])\n",
        "\n",
        "print(\"\\nRUTA\")\n",
        "for i in range(len(TARIFAS)):\n",
        "    print(RUTA[i])\n",
        "print(\"\\nLa ruta es:\")\n",
        "calcular_ruta(RUTA, 0, 6)\n",
        "\n"
      ]
    },
    {
      "attachments": {},
      "cell_type": "markdown",
      "metadata": {},
      "source": [
        "## Práctica individual\n",
        "\n",
        "Problema: Encontrar los dos puntos más cercanos"
      ]
    },
    {
      "attachments": {},
      "cell_type": "markdown",
      "metadata": {},
      "source": [
        "### **Funciones para el cálculo de distancias**"
      ]
    },
    {
      "cell_type": "code",
      "execution_count": 51,
      "metadata": {},
      "outputs": [],
      "source": [
        "import math\n",
        "\n",
        "def distancia_1D(A: int, B: int) -> int:\n",
        "    return abs(A-B)\n",
        "\n",
        "def distancia_2D(A: List[int], B: List[int]) -> float:\n",
        "    \"\"\" Devuelve la distancia euclídea entre dos puntos en 2D.\n",
        "\n",
        "    Args:\n",
        "        A (List[int]): punto A.\n",
        "        B (List[int]): punto B.\n",
        "\n",
        "    Returns:\n",
        "        float: distancia euclídea.\n",
        "    \"\"\"\n",
        "    return math.sqrt((B[0] - A[0])**2 + (B[1] - A[1])**2)\n",
        "\n",
        "def distancia_3D(A: List[int], B: List[int]) -> float:\n",
        "    \"\"\" Devuelve la distancia euclídea entre dos puntos en 3D.\n",
        "\n",
        "    Args:\n",
        "        A (List[int]): punto A.\n",
        "        B (List[int]): punto B.\n",
        "\n",
        "    Returns:\n",
        "        float: distancia euclídea.\n",
        "    \"\"\"\n",
        "    return math.sqrt((B[0] - A[0])**2 + (B[1] - A[1])**2 + (B[2] - A[2])**2)"
      ]
    },
    {
      "attachments": {},
      "cell_type": "markdown",
      "metadata": {},
      "source": [
        "## **Fuerza bruta:**"
      ]
    },
    {
      "cell_type": "code",
      "execution_count": 26,
      "metadata": {},
      "outputs": [],
      "source": [
        "\n",
        "def min_distance_1D(lista_puntos: List[int]) -> Tuple[int, int]:\n",
        "    lista_puntos.sort()\n",
        "    min_dist = float(\"inf\")\n",
        "    for i in range(len(lista_puntos)):\n",
        "        for j in lista_puntos[i + 1:]:\n",
        "            dist = abs(lista_puntos[i] - (j))\n",
        "            if dist < min_dist:\n",
        "                min_dist = dist\n",
        "                punto_a = lista_puntos[i]\n",
        "                punto_b = j\n",
        "    return punto_a, punto_b\n"
      ]
    },
    {
      "cell_type": "code",
      "execution_count": 61,
      "metadata": {},
      "outputs": [
        {
          "name": "stdout",
          "output_type": "stream",
          "text": [
            "[279, 2722, 7434, 4917, 4034, 4731, 8072, 7593, 155, 2668]\n",
            "(2668, 2722)\n"
          ]
        }
      ],
      "source": [
        "from random import randint\n",
        "\n",
        "lista_1D = [randint(1, 10000) for x in range(10)]\n",
        "print(lista_1D)\n",
        "print(min_distance_1D(lista_1D))"
      ]
    },
    {
      "cell_type": "code",
      "execution_count": 48,
      "metadata": {},
      "outputs": [],
      "source": [
        "def min_distance_2D(lista_puntos: List[Tuple[int, int]]) -> Tuple[Tuple[int, int], Tuple[int, int]]:\n",
        "    min_dist = float(\"inf\")\n",
        "    for i, point_a in enumerate(lista_puntos):\n",
        "        for point_b in lista_puntos[i+1:]:\n",
        "            dist = distancia_2D(point_a, point_b)\n",
        "            if dist < min_dist:\n",
        "                min_dist = dist\n",
        "                ret_p_a = lista_puntos[i]\n",
        "                ret_p_b = point_b\n",
        "    return ret_p_a, ret_p_b\n"
      ]
    },
    {
      "cell_type": "code",
      "execution_count": 47,
      "metadata": {},
      "outputs": [
        {
          "name": "stdout",
          "output_type": "stream",
          "text": [
            "[(1151, 1571), (1601, 7758), (4268, 9135), (3914, 7466), (6035, 1217), (6988, 6754), (1919, 2216), (9902, 629), (8253, 9279), (5689, 1260)]\n",
            "((6035, 1217), (5689, 1260))\n"
          ]
        }
      ],
      "source": [
        "lista_2D = [(randint(1, 10000), randint(1, 10000)) for x in range(10)]\n",
        "print(lista_2D)\n",
        "print(min_distance_2D(lista_2D))\n"
      ]
    },
    {
      "cell_type": "code",
      "execution_count": 49,
      "metadata": {},
      "outputs": [],
      "source": [
        "def min_distance_3D(lista_puntos: List[Tuple[int, int, int]]) -> Tuple[Tuple[int, int, int], Tuple[int, int, int]]:\n",
        "    min_dist = float(\"inf\")\n",
        "    for i, point_a in enumerate(lista_puntos):\n",
        "        for point_b in lista_puntos[i+1:]:\n",
        "            dist = distancia_3D(point_a, point_b)\n",
        "            if dist < min_dist:\n",
        "                min_dist = dist\n",
        "                ret_p_a = lista_puntos[i]\n",
        "                ret_p_b = point_b\n",
        "    return ret_p_a, ret_p_b\n"
      ]
    },
    {
      "cell_type": "code",
      "execution_count": 50,
      "metadata": {},
      "outputs": [
        {
          "name": "stdout",
          "output_type": "stream",
          "text": [
            "[(829, 60, 13), (99, 67, 81), (815, 17, 2), (863, 49, 41), (738, 15, 81), (141, 14, 90), (537, 69, 25), (50, 63, 78), (186, 49, 82), (225, 41, 85)]\n",
            "((186, 49, 82), (225, 41, 85))\n"
          ]
        }
      ],
      "source": [
        "lista_3D = [(randint(1, 1000), randint(1, 100), randint(1, 100)) for x in range(10)]\n",
        "print(lista_3D)\n",
        "print(min_distance_3D(lista_3D))\n"
      ]
    },
    {
      "attachments": {},
      "cell_type": "markdown",
      "metadata": {},
      "source": [
        "Calcular la complejidad. ¿Se puede mejorar?\n",
        "\n",
        "La complejidad del algoritmo es de O(n^2).\n",
        "\n",
        "Si, se puede mejorar a través de la técnica de divide y vencerás."
      ]
    },
    {
      "cell_type": "code",
      "execution_count": null,
      "metadata": {},
      "outputs": [],
      "source": []
    },
    {
      "attachments": {},
      "cell_type": "markdown",
      "metadata": {},
      "source": [
        "## **Divide y vencerás**"
      ]
    },
    {
      "attachments": {},
      "cell_type": "markdown",
      "metadata": {},
      "source": [
        "### Algoritmo DyV para 1D"
      ]
    },
    {
      "cell_type": "code",
      "execution_count": 57,
      "metadata": {},
      "outputs": [],
      "source": [
        "def divide_y_venceras_1D(lista_puntos: List[int]) -> Tuple[int, int]:\n",
        "    lista_puntos.sort()\n",
        "    min_distance = float('inf')\n",
        "    n = len(lista_puntos)\n",
        "    if n < 2:  # Si no hay suficientes elementos.\n",
        "        return 0, float(\"inf\")\n",
        "    if n == 2:  # Si sólo hay 2 elementos, se devuelven directamente.\n",
        "        return lista_puntos[0], lista_puntos[1]\n",
        "\n",
        "    else:\n",
        "        # Para el resto de casos en el que podemos aplicar la técnica de divide y vencerás.\n",
        "        # Definición del pivote y las listas auxiliares intermedias a ambos lados del pivote.\n",
        "        mid = n // 2\n",
        "        left_list = lista_puntos[:mid]\n",
        "        right_list = lista_puntos[mid:]\n",
        "\n",
        "        # Recursividad sobre la lista de la izquierda.\n",
        "        point_A, point_B = divide_y_venceras_1D(\n",
        "            left_list)\n",
        "        dist = distancia_1D(point_A, point_B)\n",
        "\n",
        "        if min_distance > dist:\n",
        "            min_distance = dist\n",
        "            ret_point_a, ret_point_b = point_A, point_B\n",
        "\n",
        "        # Recursividad sobre la lista de la derecha.\n",
        "        point_C, point_D = divide_y_venceras_1D(\n",
        "            right_list)\n",
        "        dist = distancia_1D(point_C, point_D)\n",
        "\n",
        "        if min_distance > dist:\n",
        "            min_distance = dist\n",
        "            ret_point_a, ret_point_b = point_C, point_D\n",
        "\n",
        "        # comparación distancia puntos medios\n",
        "        pointE, pointF = lista_puntos[mid - 1], lista_puntos[mid]\n",
        "        dist = distancia_1D(pointE, pointF)\n",
        "\n",
        "        if min_distance > dist:\n",
        "            min_distance = dist\n",
        "            ret_point_a, ret_point_b = pointE, pointF\n",
        "\n",
        "        return ret_point_a, ret_point_b\n"
      ]
    },
    {
      "cell_type": "code",
      "execution_count": 62,
      "metadata": {},
      "outputs": [
        {
          "name": "stdout",
          "output_type": "stream",
          "text": [
            "(2668, 2722)\n"
          ]
        }
      ],
      "source": [
        "print(divide_y_venceras_1D(lista_1D))"
      ]
    }
  ],
  "metadata": {
    "colab": {
      "provenance": []
    },
    "kernelspec": {
      "display_name": "Python 3",
      "language": "python",
      "name": "python3"
    },
    "language_info": {
      "codemirror_mode": {
        "name": "ipython",
        "version": 3
      },
      "file_extension": ".py",
      "mimetype": "text/x-python",
      "name": "python",
      "nbconvert_exporter": "python",
      "pygments_lexer": "ipython3",
      "version": "3.8.10"
    },
    "vscode": {
      "interpreter": {
        "hash": "bb31114eedf5e6fc6f94359eb6262ef53bf602db2731b276597f07c416578a27"
      }
    }
  },
  "nbformat": 4,
  "nbformat_minor": 0
}
